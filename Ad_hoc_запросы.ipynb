{
  "cells": [
    {
      "cell_type": "code",
      "execution_count": 2,
      "metadata": {
        "colab": {
          "base_uri": "https://localhost:8080/"
        },
        "id": "WEk7-YVvx8uf",
        "outputId": "ba955724-7505-42d5-c08b-746b9412e8d7"
      },
      "outputs": [
        {
          "output_type": "stream",
          "name": "stdout",
          "text": [
            "Вид датафрейма p:\n",
            "   product_id                 product_name    category manufacturer\n",
            "0         101       Ноутбук HP Pavilion 15    Ноутбуки            A\n",
            "1         102  Смартфон Samsung Galaxy S21   Смартфоны            B\n",
            "2         103       Планшет Apple iPad Air    Планшеты            C\n",
            "3         104     Наушники Sony WH-1000XM4    Наушники            D\n",
            "4         105         Телевизор LG OLED CX  Телевизоры            E\n",
            "Вид датафрейма s:\n",
            "   order_id  product_id  customer_id  order_date  quantity  price_per_unit  \\\n",
            "0         1         101         1001  2022-02-15         2             500   \n",
            "1         2         102         1002  2022-03-20         1             800   \n",
            "2         3         103         1003  2022-03-25         3             300   \n",
            "3         4         104         1001  2022-04-10         2             400   \n",
            "4         5         105         1004  2022-04-15         1             700   \n",
            "\n",
            "   total_price payment_method  region  \n",
            "0         1000          Карта   Север  \n",
            "1          800       Наличные      Юг  \n",
            "2          900          Карта   Запад  \n",
            "3          800          Карта  Восток  \n",
            "4          700       Наличные   Север  \n"
          ]
        }
      ],
      "source": [
        "import pandas as pd\n",
        "import numpy as np\n",
        "\n",
        "p = pd.read_csv('/content/products_data.csv') #products\n",
        "s = pd.read_csv('/content/sales_data.csv') #sales\n",
        "\n",
        "print('Вид датафрейма p:')\n",
        "print(p.head())\n",
        "print('Вид датафрейма s:')\n",
        "print(s.head())\n",
        "\n"
      ]
    },
    {
      "cell_type": "code",
      "execution_count": 3,
      "metadata": {
        "id": "lT2aoSjL1naE",
        "colab": {
          "base_uri": "https://localhost:8080/"
        },
        "outputId": "b3dbb95a-4a9c-4f84-e976-2a83debabcf7"
      },
      "outputs": [
        {
          "output_type": "stream",
          "name": "stdout",
          "text": [
            "Пропуски в products:\n",
            "product_id      False\n",
            "product_name    False\n",
            "category        False\n",
            "manufacturer    False\n",
            "dtype: bool\n",
            "Пропуски в sales:\n",
            "order_id          False\n",
            "product_id        False\n",
            "customer_id       False\n",
            "order_date        False\n",
            "quantity          False\n",
            "price_per_unit    False\n",
            "total_price       False\n",
            "payment_method    False\n",
            "region            False\n",
            "dtype: bool\n"
          ]
        }
      ],
      "source": [
        "print('Пропуски в products:')\n",
        "print(p.isna().any())\n",
        "print('Пропуски в sales:')\n",
        "print(s.isna().any())"
      ]
    },
    {
      "cell_type": "markdown",
      "metadata": {
        "id": "qXfbTuPhz-ug"
      },
      "source": [
        "1. В каком регионе было продано наибольшее количество продуктов категории \"Смартфоны\"?"
      ]
    },
    {
      "cell_type": "code",
      "source": [
        "#Наиболее простой способ - объединить датафреймы\n",
        "df = s.merge(p, on='product_id')\n",
        "df1 = df[(df['category'] == 'Смартфоны')].groupby('region')['quantity'].agg(sum).sort_values(ascending = False).head(1)\n",
        "df1"
      ],
      "metadata": {
        "id": "E_di4hERFd9h",
        "colab": {
          "base_uri": "https://localhost:8080/"
        },
        "outputId": "31c92140-e3f4-460b-9d07-99db140279be"
      },
      "execution_count": 4,
      "outputs": [
        {
          "output_type": "execute_result",
          "data": {
            "text/plain": [
              "region\n",
              "Восток    4\n",
              "Name: quantity, dtype: int64"
            ]
          },
          "metadata": {},
          "execution_count": 4
        }
      ]
    },
    {
      "cell_type": "code",
      "execution_count": 5,
      "metadata": {
        "id": "DzN4SSv6N5wg",
        "colab": {
          "base_uri": "https://localhost:8080/"
        },
        "outputId": "392f64cd-1026-4a8c-a4f0-9fe2b006bd5c"
      },
      "outputs": [
        {
          "output_type": "execute_result",
          "data": {
            "text/plain": [
              "region\n",
              "Восток    4\n",
              "Name: quantity, dtype: int64"
            ]
          },
          "metadata": {},
          "execution_count": 5
        }
      ],
      "source": [
        "#Также можно попробовать без использования df_merged\n",
        "df2 = p[(p['category'] == 'Смартфоны')]\n",
        "a = list(df2['product_id'].values)\n",
        "s_smartphones = s[s.product_id.isin(a)].groupby('region')['quantity'].agg(sum).sort_values(ascending = False).head(1)\n",
        "s_smartphones"
      ]
    },
    {
      "cell_type": "markdown",
      "source": [
        "2. Какова разница между максимальной и минимальной средней ценой продуктов категории \"Ноутбуки\" между всеми производителями? Ответ округлите до целых."
      ],
      "metadata": {
        "id": "6c35Tgr8DvA3"
      }
    },
    {
      "cell_type": "code",
      "source": [
        "df3 = df[(df['category'] == 'Ноутбуки')].groupby('manufacturer')['price_per_unit'].mean()\n",
        "prices = [i for i in df3.values]\n",
        "round(max(prices) - min(prices))"
      ],
      "metadata": {
        "colab": {
          "base_uri": "https://localhost:8080/"
        },
        "id": "vVbthEE8D0sf",
        "outputId": "170393a9-9f27-433d-8cd4-2d80ec7abf91"
      },
      "execution_count": 14,
      "outputs": [
        {
          "output_type": "execute_result",
          "data": {
            "text/plain": [
              "200"
            ]
          },
          "metadata": {},
          "execution_count": 14
        }
      ]
    },
    {
      "cell_type": "markdown",
      "source": [
        "3. Какой покупатель совершил заказы на наибольшую сумму по всем временам?"
      ],
      "metadata": {
        "id": "09UiUMwjQjMU"
      }
    },
    {
      "cell_type": "code",
      "source": [
        "customer_max = s.groupby('customer_id')['total_price'].agg(sum).sort_values(ascending = False)\n",
        "customer_max.idxmax()\n"
      ],
      "metadata": {
        "colab": {
          "base_uri": "https://localhost:8080/"
        },
        "id": "MJJ-TbF1Ql-s",
        "outputId": "9ad2d9e3-02e3-49fb-99c5-6274573e1327"
      },
      "execution_count": 7,
      "outputs": [
        {
          "output_type": "execute_result",
          "data": {
            "text/plain": [
              "1003"
            ]
          },
          "metadata": {},
          "execution_count": 7
        }
      ]
    },
    {
      "cell_type": "markdown",
      "source": [
        "4. Какова доля продаж продуктов категории \"Планшеты\" от общей выручки за все время? Ответ округлите до 2 знака после запятой. Разделитель разряда - точка."
      ],
      "metadata": {
        "id": "d_5esFbwHkDf"
      }
    },
    {
      "cell_type": "code",
      "source": [
        "total_sales_pl = df[(df['category'] == 'Планшеты')]['total_price'].sum()\n",
        "round(total_sales_pl/df['total_price'].sum(),2)\n"
      ],
      "metadata": {
        "colab": {
          "base_uri": "https://localhost:8080/"
        },
        "id": "bIHCzvR5Ijcx",
        "outputId": "6dd4323a-947e-48cb-81e3-995decadf700"
      },
      "execution_count": 8,
      "outputs": [
        {
          "output_type": "execute_result",
          "data": {
            "text/plain": [
              "0.25"
            ]
          },
          "metadata": {},
          "execution_count": 8
        }
      ]
    },
    {
      "cell_type": "markdown",
      "source": [
        "5. Какова разница в средней цене продуктов категории \"Смартфоны\" между двумя самыми крупными регионами по продажам? Ответ округлите до целых."
      ],
      "metadata": {
        "id": "XnXzm5V7cSSi"
      }
    },
    {
      "cell_type": "code",
      "source": [
        "top_regions = df.groupby('region')['total_price'].sum().sort_values(ascending = False).head(2)\n",
        "diff_smartphones = df[ (df['category'] == 'Смартфоны') & (df['region'].isin(top_regions.index)) ].groupby('region')['price_per_unit'].mean()\n",
        "#так как мы знаем что diff_smartphones содержит лишь два значения в столбце цен, то можем смело выбрать значения по индексам\n",
        "abs(diff_smartphones.iloc[0] - diff_smartphones.iloc[1])"
      ],
      "metadata": {
        "id": "AhbfuKvgCUK2",
        "colab": {
          "base_uri": "https://localhost:8080/"
        },
        "outputId": "3373c159-9f73-4af6-ce48-0371e9f29fec"
      },
      "execution_count": 23,
      "outputs": [
        {
          "output_type": "execute_result",
          "data": {
            "text/plain": [
              "275.0"
            ]
          },
          "metadata": {},
          "execution_count": 23
        }
      ]
    },
    {
      "cell_type": "markdown",
      "source": [
        "6. Сколько в среднем уникальных категорий продуктов было продано по всем регионам?"
      ],
      "metadata": {
        "id": "ydx3E9tHBlQq"
      }
    },
    {
      "cell_type": "code",
      "source": [
        "df.groupby('region')['category'].nunique().mean()"
      ],
      "metadata": {
        "id": "Q8xGlNcrBoZj",
        "colab": {
          "base_uri": "https://localhost:8080/"
        },
        "outputId": "568f5ed3-cbed-4fa1-ab44-799289ee8559"
      },
      "execution_count": 42,
      "outputs": [
        {
          "output_type": "execute_result",
          "data": {
            "text/plain": [
              "5.0"
            ]
          },
          "metadata": {},
          "execution_count": 42
        }
      ]
    },
    {
      "cell_type": "markdown",
      "source": [
        "7. Какой производитель представлен в наибольшем количестве различных категорий продуктов?"
      ],
      "metadata": {
        "id": "lJ9BffFki4Yk"
      }
    },
    {
      "cell_type": "code",
      "source": [
        "df.groupby('manufacturer')['category'].nunique().idxmax()"
      ],
      "metadata": {
        "colab": {
          "base_uri": "https://localhost:8080/",
          "height": 35
        },
        "id": "lIhIJqyei9JG",
        "outputId": "b590823a-8f12-4538-eddd-e1aac1d6f293"
      },
      "execution_count": 50,
      "outputs": [
        {
          "output_type": "execute_result",
          "data": {
            "text/plain": [
              "'E'"
            ],
            "application/vnd.google.colaboratory.intrinsic+json": {
              "type": "string"
            }
          },
          "metadata": {},
          "execution_count": 50
        }
      ]
    }
  ],
  "metadata": {
    "colab": {
      "provenance": []
    },
    "kernelspec": {
      "display_name": "Python 3",
      "name": "python3"
    },
    "language_info": {
      "name": "python"
    }
  },
  "nbformat": 4,
  "nbformat_minor": 0
}